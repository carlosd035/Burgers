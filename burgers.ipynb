{
 "cells": [
  {
   "cell_type": "markdown",
   "id": "c36486ee-4433-4db9-93e5-16f72003c36b",
   "metadata": {},
   "source": [
    "### Equação de Burgers'\n"
   ]
  },
  {
   "cell_type": "markdown",
   "id": "7adeab81-c04a-41af-bc7a-3112233bd00a",
   "metadata": {},
   "source": [
    "$\\dfrac{\\partial u}{\\partial t}+u\\dfrac{\\partial u}{\\partial x}=\\nu\\dfrac{\\partial^2 u}{\\partial x^2}, \\,\\,\\,\\, x\\in [-1,1], \\,\\,\\,\\, t\\in [0,1]$\n",
    "\n",
    "com as seguintes condições iniciais:\n",
    "\n",
    "$u(-1,t) = u(1,t)=0,\\,\\,\\,\\,\\, u(x,0)=-\\sin(\\pi x).$"
   ]
  },
  {
   "cell_type": "code",
   "execution_count": null,
   "id": "593d7073-7167-4e52-b054-0f9a45920d2b",
   "metadata": {},
   "outputs": [],
   "source": [
    "import deepxde as dde\n",
    "from deepxde.backend import tf\n",
    "import numpy as np\n",
    "\n",
    "geom = dde.geometry.Interval(-1, 1)\n",
    "timedomain = dde.geometry.TimeDomain(0, 0.99)\n",
    "geomtime = dde.geometry.GeometryXTime(geom, timedomain)\n",
    "\n",
    "def pde(x, y):\n",
    "    dy_x = dde.grad.jacobian(y, x, i=0, j=0)\n",
    "    dy_t = dde.grad.jacobian(y, x, i=0, j=1)\n",
    "    dy_xx = dde.grad.hessian(y, x, i=0, j=0)\n",
    "    return dy_t + y * dy_x - 0.01 / np.pi * dy_xx\n",
    "\n",
    "bc = dde.icbc.DirichletBC(geomtime, lambda x: 0, lambda _, on_boundary: on_boundary)\n",
    "ic = dde.icbc.IC(geomtime, lambda x: -np.sin(np.pi * x[:, 0:1]), lambda _, on_initial: on_initial)\n",
    "\n",
    "data = dde.data.TimePDE(\n",
    "    geomtime, pde, [bc, ic],\n",
    "    num_domain=2540, num_boundary=80, num_initial=160, num_test=1500  # Ajuste para separar dados de teste\n",
    ")\n",
    "net = dde.nn.FNN([2] + [20] * 3 + [1], \"tanh\", \"Glorot normal\")\n",
    "model = dde.Model(data, net)\n",
    "model.compile(\"adam\", lr=1e-3)\n",
    "losshistory, train_state = model.train(iterations=15000)\n",
    "dde.saveplot(losshistory, train_state, issave=True, isplot=True) \n"
   ]
  }
 ],
 "metadata": {
  "kernelspec": {
   "display_name": "bolsa",
   "language": "python",
   "name": "python3"
  },
  "language_info": {
   "codemirror_mode": {
    "name": "ipython",
    "version": 3
   },
   "file_extension": ".py",
   "mimetype": "text/x-python",
   "name": "python",
   "nbconvert_exporter": "python",
   "pygments_lexer": "ipython3",
   "version": "3.9.20"
  }
 },
 "nbformat": 4,
 "nbformat_minor": 5
}
